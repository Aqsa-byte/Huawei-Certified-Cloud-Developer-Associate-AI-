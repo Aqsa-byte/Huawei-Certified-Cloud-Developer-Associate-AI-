{
  "nbformat": 4,
  "nbformat_minor": 0,
  "metadata": {
    "colab": {
      "provenance": []
    },
    "kernelspec": {
      "name": "python3",
      "display_name": "Python 3"
    },
    "language_info": {
      "name": "python"
    }
  },
  "cells": [
    {
      "cell_type": "code",
      "execution_count": null,
      "metadata": {
        "colab": {
          "base_uri": "https://localhost:8080/"
        },
        "id": "nW1r8tlkqBDd",
        "outputId": "f9478357-b5ec-443b-9353-0042c75efd71"
      },
      "outputs": [
        {
          "output_type": "stream",
          "name": "stdout",
          "text": [
            "Initial Dictionary: {'name': 'Alice', 'age': 25, 'city': 'New York', 66: 77}\n",
            "Name: Alice\n",
            "Country (default None): None\n",
            "Country (default 'USA'): USA\n",
            "After Adding 'country': {'name': 'Alice', 'age': 25, 'city': 'New York', 66: 77, 'country': 'USA'}\n",
            "After Updating 'age': {'name': 'Alice', 'age': 26, 'city': 'New York', 66: 77, 'country': 'USA'}\n",
            "Popped 'age': 26\n",
            "After Popping 'age': {'name': 'Alice', 'city': 'New York', 66: 77, 'country': 'USA'}\n",
            "Popped Last Item: ('country', 'USA')\n",
            "After Popping Last Item: {'name': 'Alice', 'city': 'New York', 66: 77}\n",
            "Does 'name' exist?: True\n",
            "Does 'age' exist?: False\n",
            "Keys in Dictionary:\n",
            "name\n",
            "city\n",
            "66\n",
            "Values in Dictionary:\n",
            "Alice\n",
            "New York\n",
            "77\n",
            "Key-Value Pairs in Dictionary:\n",
            "name: Alice\n",
            "city: New York\n",
            "66: 77\n",
            "After Merging Additional Info: {'name': 'Alice', 'city': 'New York', 66: 77, 'profession': 'Engineer', 'hobby': 'Painting'}\n",
            "Copied Dictionary: {'name': 'Alice', 'city': 'New York', 66: 77, 'profession': 'Engineer', 'hobby': 'Painting'}\n",
            "After Clearing Dictionary: {}\n",
            "Nested Dictionary: {'person1': {'name': 'Alice', 'age': 25}, 'person2': {'name': 'Bob', 'age': 30}}\n",
            "Name of person1: Alice\n"
          ]
        }
      ],
      "source": [
        "# Dictionary Operations in Python\n",
        "\n",
        "# 1. Create a dictionary\n",
        "my_dict = {\n",
        "    'name': 'Alice',\n",
        "    'age': 25,\n",
        "    'city': 'New York',\n",
        "}\n",
        "print(\"Initial Dictionary:\", my_dict)\n",
        "\n",
        "# 2. Accessing values using keys\n",
        "print(\"Name:\", my_dict['name'])  # Access value for the key 'name'\n",
        "\n",
        "# 3. Using the get() method to access values safely\n",
        "# Returns None if the key doesn't exist (or a default value if provided)\n",
        "print(\"Country (default None):\", my_dict.get('country'))\n",
        "print(\"Country (default 'USA'):\", my_dict.get('country', 'USA'))\n",
        "\n",
        "# 4. Adding a new key-value pair\n",
        "my_dict['country'] = 'USA'\n",
        "print(\"After Adding 'country':\", my_dict)\n",
        "\n",
        "# 5. Updating an existing key's value\n",
        "my_dict['age'] = 26\n",
        "print(\"After Updating 'age':\", my_dict)\n",
        "\n",
        "# 6. Removing a key-value pair using pop()\n",
        "age = my_dict.pop('age')  # Removes 'age' and returns its value\n",
        "print(\"Popped 'age':\", age)\n",
        "print(\"After Popping 'age':\", my_dict)\n",
        "\n",
        "# 7. Removing the last inserted key-value pair using popitem()\n",
        "last_item = my_dict.popitem()\n",
        "print(\"Popped Last Item:\", last_item)\n",
        "print(\"After Popping Last Item:\", my_dict)\n",
        "\n",
        "# 8. Checking if a key exists\n",
        "print(\"Does 'name' exist?:\", 'name' in my_dict)\n",
        "print(\"Does 'age' exist?:\", 'age' in my_dict)\n",
        "\n",
        "# 9. Iterating over keys\n",
        "print(\"Keys in Dictionary:\")\n",
        "for key in my_dict.keys():\n",
        "    print(key)\n",
        "\n",
        "# 10. Iterating over values\n",
        "print(\"Values in Dictionary:\")\n",
        "for value in my_dict.values():\n",
        "    print(value)\n",
        "\n",
        "# 11. Iterating over key-value pairs\n",
        "print(\"Key-Value Pairs in Dictionary:\")\n",
        "for key, value in my_dict.items():\n",
        "    print(f\"{key}: {value}\")\n",
        "\n",
        "# 12. Merging two dictionaries using update()\n",
        "additional_info = {\n",
        "    'profession': 'Engineer',\n",
        "    'hobby': 'Painting'\n",
        "}\n",
        "my_dict.update(additional_info)\n",
        "print(\"After Merging Additional Info:\", my_dict)\n",
        "\n",
        "# 13. Copying a dictionary\n",
        "copy_dict = my_dict.copy()\n",
        "print(\"Copied Dictionary:\", copy_dict)\n",
        "\n",
        "# 14. Clearing all items from the dictionary\n",
        "my_dict.clear()\n",
        "print(\"After Clearing Dictionary:\", my_dict)\n",
        "\n",
        "# 15. Nested dictionaries\n",
        "nested_dict = {\n",
        "    'person1': {'name': 'Alice', 'age': 25},\n",
        "    'person2': {'name': 'Bob', 'age': 30}\n",
        "}\n",
        "print(\"Nested Dictionary:\", nested_dict)\n",
        "\n",
        "# Accessing a value in a nested dictionary\n",
        "print(\"Name of person1:\", nested_dict['person1']['name'])\n"
      ]
    },
    {
      "cell_type": "code",
      "source": [
        "# create dictionaries from lists, tuple, zip methods\n",
        "\n",
        "keys = ['a', 'b', 'c']\n",
        "values = [1, 2, 3]\n",
        "my_dict_from_lists = dict(zip(keys, values))\n",
        "print(\"Dictionary from lists using zip:\", my_dict_from_lists)\n",
        "\n",
        "keys_tuple = ('x', 'y', 'z')\n",
        "values_tuple = (10, 20, 30)\n",
        "my_dict_from_tuples = dict(zip(keys_tuple, values_tuple))\n",
        "print(\"Dictionary from tuples using zip:\", my_dict_from_tuples)\n",
        "\n",
        "# Example with mixed types\n",
        "mixed_keys = ['id', 100, 'status']\n",
        "mixed_values = [123, 'active', True]\n",
        "my_dict_mixed = dict(zip(mixed_keys, mixed_values))\n",
        "print(\"Dictionary from mixed types using zip:\", my_dict_mixed)\n",
        "\n",
        "# Example with a list of tuples\n",
        "list_of_tuples = [ ('apple', 1), ('banana', 2), ('cherry', 3) ]\n",
        "my_dict_from_list_of_tuples = dict(list_of_tuples)\n",
        "print(\"Dictionary from a list of tuples:\", my_dict_from_list_of_tuples)\n",
        "\n",
        "# Example with a list of lists (inner lists should have exactly two elements)\n",
        "list_of_lists = [ ['cat', 'meow'], ['dog', 'bark'], ['bird', 'chirp']]\n",
        "my_dict_from_list_of_lists = dict(list_of_lists)\n",
        "print(\"Dictionary from a list of lists:\", my_dict_from_list_of_lists)\n",
        "\n",
        "# Example using dictionary comprehension with zip\n",
        "keys_comp = ['one', 'two', 'three']\n",
        "values_comp = [1, 2, 3]\n",
        "my_dict_comprehension = { k: v for k, v in zip(keys_comp, values_comp)}\n",
        "print(\"Dictionary using comprehension and zip:\", my_dict_comprehension)"
      ],
      "metadata": {
        "colab": {
          "base_uri": "https://localhost:8080/"
        },
        "id": "bUH6xQ7zF3z3",
        "outputId": "3951c67e-750c-45e5-f5c1-8822b7448afd"
      },
      "execution_count": null,
      "outputs": [
        {
          "output_type": "stream",
          "name": "stdout",
          "text": [
            "Dictionary from lists using zip: {'a': 1, 'b': 2, 'c': 3}\n",
            "Dictionary from tuples using zip: {'x': 10, 'y': 20, 'z': 30}\n",
            "Dictionary from mixed types using zip: {'id': 123, 100: 'active', 'status': True}\n",
            "Dictionary from a list of tuples: {'apple': 1, 'banana': 2, 'cherry': 3}\n",
            "Dictionary from a list of lists: {'cat': 'meow', 'dog': 'bark', 'bird': 'chirp'}\n",
            "Dictionary using comprehension and zip: {'one': 1, 'two': 2, 'three': 3}\n"
          ]
        }
      ]
    }
  ]
}