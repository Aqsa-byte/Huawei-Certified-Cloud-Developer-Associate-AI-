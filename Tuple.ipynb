{
  "nbformat": 4,
  "nbformat_minor": 0,
  "metadata": {
    "colab": {
      "provenance": []
    },
    "kernelspec": {
      "name": "python3",
      "display_name": "Python 3"
    },
    "language_info": {
      "name": "python"
    }
  },
  "cells": [
    {
      "cell_type": "markdown",
      "source": [],
      "metadata": {
        "id": "FXPxJb6GrhAg"
      }
    },
    {
      "cell_type": "markdown",
      "source": [
        "# Tuple\n",
        "A tuple in Python is an ordered, immutable collection of items. It allows storing multiple items in a single variable. Tuples are defined by enclosing elements in parentheses (), separated by commas."
      ],
      "metadata": {
        "id": "uY5K2PuisVWw"
      }
    },
    {
      "cell_type": "code",
      "source": [
        "my_tuple = (1, 2, 3, 'a', 'b', 'c')"
      ],
      "metadata": {
        "id": "dgo2mLinsgcm"
      },
      "execution_count": null,
      "outputs": []
    },
    {
      "cell_type": "markdown",
      "source": [
        "# Properties of Tuple\n",
        "* **Ordered\tElements** have a defined order and can be accessed by index.\n",
        "* **Immutable**\tOnce created, the tuple cannot be modified (no addition, removal, or change of elements).\n",
        "* **Allows Duplicates**\tTuples can contain duplicate values.\n",
        "* **Heterogeneous**\tCan store elements of different data types.\n",
        "* **Indexable and Sliceable**\tSupports indexing and slicing similar to lists.\n"
      ],
      "metadata": {
        "id": "SjDEPtmzsiU_"
      }
    },
    {
      "cell_type": "code",
      "execution_count": null,
      "metadata": {
        "colab": {
          "base_uri": "https://localhost:8080/"
        },
        "id": "hkYlleSxrPnD",
        "outputId": "26cea16b-fc45-4d9d-e5ff-09cfdddd8b39"
      },
      "outputs": [
        {
          "output_type": "stream",
          "name": "stdout",
          "text": [
            "First fruit: apple\n",
            "Last number: 5\n",
            "Last three fruits: ('cherry', 'apple', 'date')\n",
            "Middle numbers: (2, 3, 4)\n",
            "Number of times 'apple' appears: 2\n",
            "Index of 'banana': 0\n",
            "Combined tuple: ('apple', 'banana', 'cherry', 'apple', 'date', 1, 2, 3, 4, 5, 100, 200)\n",
            "Nested tuple element: 5\n",
            "Is 'cherry' present in fruits? True\n",
            "All fruits:\n",
            "apple\n",
            "banana\n",
            "cherry\n",
            "apple\n",
            "date\n",
            "Sum of numbers: 15\n",
            "Minimum number: 1\n",
            "Maximum number: 5\n",
            "Length of tuple: 5\n",
            "<class 'tuple'>\n",
            "Zipped tuples: (('Alice', 25), ('Bob', 30))\n"
          ]
        }
      ],
      "source": [
        "# Tuple creation\n",
        "fruits = (\"apple\", \"banana\", \"cherry\", \"apple\", \"date\")\n",
        "numbers = (1, 2, 3, 4, 5)\n",
        "mix = (100, 2.54, \"Ali\", (2,3), [11,12,13] )\n",
        "\n",
        "# Accessing elements\n",
        "print(\"First fruit:\", fruits[0] )\n",
        "print(\"Last number:\", numbers[-1])\n",
        "\n",
        "# Slicing\n",
        "print(\"Last three fruits:\", fruits[2:])\n",
        "print(\"Middle numbers:\", numbers[1:4])\n",
        "\n",
        "# Counting occurrences\n",
        "apple_count = fruits.count(\"apple\")\n",
        "print(\"Number of times 'apple' appears:\", apple_count)\n",
        "\n",
        "# Finding index\n",
        "banana_index = fruits.index(\"apple\")\n",
        "print(\"Index of 'banana':\", banana_index)\n",
        "\n",
        "# Combining tuples\n",
        "combined = fruits + numbers + (100,200)\n",
        "print(\"Combined tuple:\", combined)\n",
        "\n",
        "# Nested tuples\n",
        "nested_tuple = ( (1, 2), (3, 4), (5, 6,7) )\n",
        "print(\"Nested tuple element:\", nested_tuple[2][0])  # Accessing second tuple's first element\n",
        "\n",
        "# Checking membership\n",
        "is_cherry_present = \"cherry\" in fruits\n",
        "print(\"Is 'cherry' present in fruits?\", is_cherry_present)\n",
        "\n",
        "# Looping through a tuple\n",
        "print(\"All fruits:\")\n",
        "for fruit in fruits:\n",
        "    print(fruit)\n",
        "\n",
        "# Tuple Functions\n",
        "min_num = min(numbers)\n",
        "max_num = max(numbers)\n",
        "sum_of_numbers = sum(numbers)\n",
        "length = len(numbers)\n",
        "print(\"Sum of numbers:\", sum_of_numbers)\n",
        "print(\"Minimum number:\", min_num)\n",
        "print(\"Maximum number:\", max_num)\n",
        "print(\"Length of tuple:\", length)\n",
        "\n",
        "# Zipping tuples\n",
        "\n",
        "names = (\"Alice\", \"Bob\", \"Charlie\")\n",
        "age = (25, 30)\n",
        "\n",
        "zipped = tuple(zip(names, age))\n",
        "\n",
        "print(type(zipped))\n",
        "print(\"Zipped tuples:\", zipped)\n"
      ]
    },
    {
      "cell_type": "code",
      "source": [
        "# prompt: code to change tuple to list and edit and list to tuple\n",
        "\n",
        "fruits = (\"apple\", \"banana\", \"cherry\", \"apple\", \"date\")\n",
        "print(fruits)\n",
        "\n",
        "# Convert tuple to list\n",
        "fruits_list = list(fruits)\n",
        "print(fruits_list)\n",
        "\n",
        "# Edit the list\n",
        "fruits_list[0] = \"orange\"\n",
        "\n",
        "# Convert list back to tuple\n",
        "fruits = tuple(fruits_list)\n",
        "\n",
        "print(fruits)\n"
      ],
      "metadata": {
        "colab": {
          "base_uri": "https://localhost:8080/"
        },
        "id": "k_6kgcatsjX9",
        "outputId": "1214478b-6a56-417d-faaa-d955a34ac1c0"
      },
      "execution_count": null,
      "outputs": [
        {
          "output_type": "stream",
          "name": "stdout",
          "text": [
            "('apple', 'banana', 'cherry', 'apple', 'date')\n",
            "['apple', 'banana', 'cherry', 'apple', 'date']\n",
            "('orange', 'banana', 'cherry', 'apple', 'date')\n"
          ]
        }
      ]
    },
    {
      "cell_type": "code",
      "source": [
        "# prompt: code to use tuple as parameter in user defined function\n",
        "\n",
        "def process_tuple(input_tuple):\n",
        "\n",
        "  print(\"Tuple elements:\", input_tuple)\n",
        "  print(\"Length of tuple:\", len(input_tuple))\n",
        "  print(\"First element:\", input_tuple[0])\n",
        "\n",
        "# Example usage:\n",
        "my_tuple = (1, 2, 3, \"hello\", 3.14)\n",
        "process_tuple(my_tuple)\n",
        "\n",
        "another_tuple = (10, 20, 30)\n",
        "process_tuple(another_tuple)"
      ],
      "metadata": {
        "id": "QWLiwxW6u2Ld",
        "colab": {
          "base_uri": "https://localhost:8080/"
        },
        "outputId": "b9fa17f3-011f-4653-c09d-c1b95c839d8f"
      },
      "execution_count": null,
      "outputs": [
        {
          "output_type": "stream",
          "name": "stdout",
          "text": [
            "Tuple elements: (1, 2, 3, 'hello', 3.14)\n",
            "Length of tuple: 5\n",
            "First element: 1\n",
            "Tuple elements: (10, 20, 30)\n",
            "Length of tuple: 3\n",
            "First element: 10\n"
          ]
        }
      ]
    },
    {
      "cell_type": "code",
      "source": [
        "import time\n",
        "\n",
        "list_test = [i for i in range(10000001)]\n",
        "tuple_test = tuple(range(10000001))\n",
        "\n",
        "start = time.time()\n",
        "10000000 in list_test\n",
        "print(\"List Time:\", time.time() - start)\n",
        "\n",
        "start = time.time()\n",
        "10000000 in tuple_test\n",
        "print(\"Tuple Time:\", time.time() - start)"
      ],
      "metadata": {
        "colab": {
          "base_uri": "https://localhost:8080/"
        },
        "id": "-LtXawsw9Dn1",
        "outputId": "324b8894-eb4b-43e7-dc35-45a646f6d097"
      },
      "execution_count": null,
      "outputs": [
        {
          "output_type": "stream",
          "name": "stdout",
          "text": [
            "List Time: 0.11854720115661621\n",
            "Tuple Time: 0.11570596694946289\n"
          ]
        }
      ]
    },
    {
      "cell_type": "code",
      "source": [
        "# Tuple unpacking is to assign the elements of a tuple to individual variables in a single step.\n",
        "person = (\"Ali\", \"Doctor\", \"Bahawalpur\")\n",
        "name, profession, city = person\n",
        "\n",
        "print(name)\n",
        "print(profession)\n",
        "print(city)"
      ],
      "metadata": {
        "colab": {
          "base_uri": "https://localhost:8080/"
        },
        "id": "4JubRrld-Nin",
        "outputId": "e1c9c038-0b64-4309-e636-2877f70c7c6e"
      },
      "execution_count": null,
      "outputs": [
        {
          "output_type": "stream",
          "name": "stdout",
          "text": [
            "Ali\n",
            "Doctor\n",
            "Bahawalpur\n"
          ]
        }
      ]
    },
    {
      "cell_type": "code",
      "source": [
        "def get_student():\n",
        "    return (\"Ali\", 20, \"BSCS\")\n",
        "\n",
        "name, age, degree = get_student()\n",
        "print(name)   # Output: Ali\n",
        "print(age)    # Output: 20\n",
        "print(degree) # Output: BSCS\n"
      ],
      "metadata": {
        "colab": {
          "base_uri": "https://localhost:8080/"
        },
        "id": "P46KQ_TU-Z7u",
        "outputId": "68757585-9e20-490b-8e30-53a212ae36b4"
      },
      "execution_count": null,
      "outputs": [
        {
          "output_type": "stream",
          "name": "stdout",
          "text": [
            "Ali\n",
            "20\n",
            "BSCS\n"
          ]
        }
      ]
    },
    {
      "cell_type": "code",
      "source": [
        "# Unpacking with * Operator (Extended Unpacking)\n",
        "data = (1, 2, 5, 7)\n",
        "a, *b, rest = data\n",
        "\n",
        "print(a)     # Output: 1\n",
        "print(b)     # Output: 2\n",
        "print(rest)  # Output\n"
      ],
      "metadata": {
        "colab": {
          "base_uri": "https://localhost:8080/"
        },
        "id": "99Gi-HjK-ide",
        "outputId": "c848e1df-76a5-4cc0-f9fa-6b4a877e2426"
      },
      "execution_count": null,
      "outputs": [
        {
          "output_type": "stream",
          "name": "stdout",
          "text": [
            "1\n",
            "[2, 5]\n",
            "7\n"
          ]
        }
      ]
    },
    {
      "cell_type": "code",
      "source": [
        "employee = (\"Sarah\", (30, \"Manager\") )\n",
        "name, (age, position) = employee\n",
        "\n",
        "print(name)     # Output: Sarah\n",
        "print(age)      # Output: 30\n",
        "print(position) # Output: Manager\n"
      ],
      "metadata": {
        "colab": {
          "base_uri": "https://localhost:8080/"
        },
        "id": "IiI998ef-pC-",
        "outputId": "b56ef99f-1828-4567-f219-8cc7e8177705"
      },
      "execution_count": null,
      "outputs": [
        {
          "output_type": "stream",
          "name": "stdout",
          "text": [
            "Sarah\n",
            "30\n",
            "Manager\n"
          ]
        }
      ]
    },
    {
      "cell_type": "code",
      "source": [
        "# Zipping tuples\n",
        "\n",
        "names = (\"Alice\", \"Bob\", \"Charlie\")\n",
        "age = (25, 30, 55)\n",
        "\n",
        "zipped = tuple(zip(names, age))\n",
        "\n",
        "print(type(zipped))\n",
        "print(\"Zipped tuples:\", zipped)"
      ],
      "metadata": {
        "colab": {
          "base_uri": "https://localhost:8080/"
        },
        "id": "G2Tn08_Q_DyH",
        "outputId": "15f82624-2138-4f39-a456-784ebfc442fd"
      },
      "execution_count": null,
      "outputs": [
        {
          "output_type": "stream",
          "name": "stdout",
          "text": [
            "<class 'tuple'>\n",
            "Zipped tuples: (('Alice', 25), ('Bob', 30), ('Charlie', 55))\n"
          ]
        }
      ]
    }
  ]
}