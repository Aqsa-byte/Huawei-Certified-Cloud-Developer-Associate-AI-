{
  "nbformat": 4,
  "nbformat_minor": 0,
  "metadata": {
    "colab": {
      "provenance": []
    },
    "kernelspec": {
      "name": "python3",
      "display_name": "Python 3"
    },
    "language_info": {
      "name": "python"
    }
  },
  "cells": [
    {
      "cell_type": "code",
      "execution_count": null,
      "metadata": {
        "colab": {
          "base_uri": "https://localhost:8080/"
        },
        "id": "cRAKp61J1S1h",
        "outputId": "36082a31-5df0-4276-d196-9d93a76e59ea"
      },
      "outputs": [
        {
          "output_type": "stream",
          "name": "stdout",
          "text": [
            "Requirement already satisfied: huaweicloudsdkcore in /usr/local/lib/python3.11/dist-packages (3.1.160)\n",
            "Requirement already satisfied: requests-toolbelt>=0.10.1 in /usr/local/lib/python3.11/dist-packages (from huaweicloudsdkcore) (1.0.0)\n",
            "Requirement already satisfied: six>=1.16.0 in /usr/local/lib/python3.11/dist-packages (from huaweicloudsdkcore) (1.17.0)\n",
            "Requirement already satisfied: simplejson>=3.18.0 in /usr/local/lib/python3.11/dist-packages (from huaweicloudsdkcore) (3.20.1)\n",
            "Requirement already satisfied: PyYAML>=5.4.1 in /usr/local/lib/python3.11/dist-packages (from huaweicloudsdkcore) (6.0.2)\n",
            "Requirement already satisfied: pyasn1>=0.5.0 in /usr/local/lib/python3.11/dist-packages (from huaweicloudsdkcore) (0.6.1)\n",
            "Requirement already satisfied: certifi>=2022.12.7 in /usr/local/lib/python3.11/dist-packages (from huaweicloudsdkcore) (2025.7.14)\n",
            "Requirement already satisfied: typing-extensions in /usr/local/lib/python3.11/dist-packages (from huaweicloudsdkcore) (4.14.1)\n",
            "Requirement already satisfied: pymongo in /usr/local/lib/python3.11/dist-packages (from huaweicloudsdkcore) (4.13.2)\n",
            "Requirement already satisfied: defusedxml in /usr/local/lib/python3.11/dist-packages (from huaweicloudsdkcore) (0.7.1)\n",
            "Requirement already satisfied: requests<3.0.0,>=2.0.1 in /usr/local/lib/python3.11/dist-packages (from requests-toolbelt>=0.10.1->huaweicloudsdkcore) (2.32.3)\n",
            "Requirement already satisfied: dnspython<3.0.0,>=1.16.0 in /usr/local/lib/python3.11/dist-packages (from pymongo->huaweicloudsdkcore) (2.7.0)\n",
            "Requirement already satisfied: charset-normalizer<4,>=2 in /usr/local/lib/python3.11/dist-packages (from requests<3.0.0,>=2.0.1->requests-toolbelt>=0.10.1->huaweicloudsdkcore) (3.4.2)\n",
            "Requirement already satisfied: idna<4,>=2.5 in /usr/local/lib/python3.11/dist-packages (from requests<3.0.0,>=2.0.1->requests-toolbelt>=0.10.1->huaweicloudsdkcore) (3.10)\n",
            "Requirement already satisfied: urllib3<3,>=1.21.1 in /usr/local/lib/python3.11/dist-packages (from requests<3.0.0,>=2.0.1->requests-toolbelt>=0.10.1->huaweicloudsdkcore) (2.5.0)\n",
            "Requirement already satisfied: huaweicloudsdkevs in /usr/local/lib/python3.11/dist-packages (3.1.160)\n",
            "Requirement already satisfied: huaweicloudsdkcore>=3.1.160 in /usr/local/lib/python3.11/dist-packages (from huaweicloudsdkevs) (3.1.160)\n",
            "Requirement already satisfied: requests-toolbelt>=0.10.1 in /usr/local/lib/python3.11/dist-packages (from huaweicloudsdkcore>=3.1.160->huaweicloudsdkevs) (1.0.0)\n",
            "Requirement already satisfied: six>=1.16.0 in /usr/local/lib/python3.11/dist-packages (from huaweicloudsdkcore>=3.1.160->huaweicloudsdkevs) (1.17.0)\n",
            "Requirement already satisfied: simplejson>=3.18.0 in /usr/local/lib/python3.11/dist-packages (from huaweicloudsdkcore>=3.1.160->huaweicloudsdkevs) (3.20.1)\n",
            "Requirement already satisfied: PyYAML>=5.4.1 in /usr/local/lib/python3.11/dist-packages (from huaweicloudsdkcore>=3.1.160->huaweicloudsdkevs) (6.0.2)\n",
            "Requirement already satisfied: pyasn1>=0.5.0 in /usr/local/lib/python3.11/dist-packages (from huaweicloudsdkcore>=3.1.160->huaweicloudsdkevs) (0.6.1)\n",
            "Requirement already satisfied: certifi>=2022.12.7 in /usr/local/lib/python3.11/dist-packages (from huaweicloudsdkcore>=3.1.160->huaweicloudsdkevs) (2025.7.14)\n",
            "Requirement already satisfied: typing-extensions in /usr/local/lib/python3.11/dist-packages (from huaweicloudsdkcore>=3.1.160->huaweicloudsdkevs) (4.14.1)\n",
            "Requirement already satisfied: pymongo in /usr/local/lib/python3.11/dist-packages (from huaweicloudsdkcore>=3.1.160->huaweicloudsdkevs) (4.13.2)\n",
            "Requirement already satisfied: defusedxml in /usr/local/lib/python3.11/dist-packages (from huaweicloudsdkcore>=3.1.160->huaweicloudsdkevs) (0.7.1)\n",
            "Requirement already satisfied: requests<3.0.0,>=2.0.1 in /usr/local/lib/python3.11/dist-packages (from requests-toolbelt>=0.10.1->huaweicloudsdkcore>=3.1.160->huaweicloudsdkevs) (2.32.3)\n",
            "Requirement already satisfied: dnspython<3.0.0,>=1.16.0 in /usr/local/lib/python3.11/dist-packages (from pymongo->huaweicloudsdkcore>=3.1.160->huaweicloudsdkevs) (2.7.0)\n",
            "Requirement already satisfied: charset-normalizer<4,>=2 in /usr/local/lib/python3.11/dist-packages (from requests<3.0.0,>=2.0.1->requests-toolbelt>=0.10.1->huaweicloudsdkcore>=3.1.160->huaweicloudsdkevs) (3.4.2)\n",
            "Requirement already satisfied: idna<4,>=2.5 in /usr/local/lib/python3.11/dist-packages (from requests<3.0.0,>=2.0.1->requests-toolbelt>=0.10.1->huaweicloudsdkcore>=3.1.160->huaweicloudsdkevs) (3.10)\n",
            "Requirement already satisfied: urllib3<3,>=1.21.1 in /usr/local/lib/python3.11/dist-packages (from requests<3.0.0,>=2.0.1->requests-toolbelt>=0.10.1->huaweicloudsdkcore>=3.1.160->huaweicloudsdkevs) (2.5.0)\n",
            "✅ API call successful.\n",
            "No volumes found in this region.\n"
          ]
        }
      ],
      "source": [
        "# ✅ Step 1: Install Huawei Cloud SDK packages\n",
        "!pip install huaweicloudsdkcore\n",
        "!pip install huaweicloudsdkevs\n",
        "\n",
        "# ✅ Step 2: Import required modules\n",
        "from huaweicloudsdkcore.auth.credentials import BasicCredentials\n",
        "from huaweicloudsdkcore.exceptions import exceptions\n",
        "from huaweicloudsdkevs.v2 import *\n",
        "from huaweicloudsdkevs.v2.region.evs_region import EvsRegion\n",
        "\n",
        "# ✅ Step 3: Provide your credentials (replace with your actual values)\n",
        "ak = \"HPUAG7EHPHMRXRNL7VFA\"\n",
        "sk = \"5eA84o8i1jQCkBjPPKOSk2M7VsY7gqQAVu6kx4uq\"\n",
        "project_id = \"d137f02d5b574d788038d067ab4c4b6b\"\n",
        "region = \"ap-southeast-1\"\n",
        "\n",
        "# ✅ Step 4: Create a credentials object\n",
        "credentials = BasicCredentials(ak, sk, project_id)\n",
        "\n",
        "# ✅ Step 5: Create the EVS client\n",
        "client = EvsClient.new_builder() \\\n",
        "    .with_credentials(credentials) \\\n",
        "    .with_region(EvsRegion.value_of(region)) \\\n",
        "    .build()\n",
        "\n",
        "# ✅ Step 6: Call an API (List Volumes)\n",
        "try:\n",
        "    request = ListVolumesRequest()\n",
        "    response = client.list_volumes(request)\n",
        "\n",
        "    print(\"✅ API call successful.\")\n",
        "    if response.volumes:\n",
        "        for volume in response.volumes:\n",
        "            print(f\"- Volume Name: {volume.name}, ID: {volume.id}\")\n",
        "    else:\n",
        "        print(\"No volumes found in this region.\")\n",
        "\n",
        "except exceptions.ClientRequestException as e:\n",
        "    print(f\"❌ Client error: {e.status_code} - {e.error_msg}\")\n",
        "except exceptions.ServerResponseException as e:\n",
        "    print(f\"❌ Server error: {e.status_code} - {e.error_msg}\")\n",
        "except exceptions.ConnectionException as e:\n",
        "    print(\"❌ Network error:\", str(e))\n"
      ]
    },
    {
      "cell_type": "code",
      "source": [
        "import requests\n",
        "\n",
        "url = \"https://iam.ap-southeast-3.myhuaweicloud.com/v3/auth/tokens\"\n",
        "\n",
        "headers = {\n",
        "    \"Content-Type\": \"application/json\",\n",
        "    \"X-Auth-Token\": \"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-zpinzj4jLMHfc2M9vnQ-ccVxoHtfUzKI50YldXWc+bTkhIuUzTY-FIdfj1-DGbdCJn8JZW2dYavdKosdE31zxgadlnOTijBGp516JcgxrfQQ7rbAFjeUC9ZYJybaJB9NGoD36id4r0DEzSU1Aam8zHuOp9hlkj8dnvwfAl50J4xn8BtMSXXfTA0Fjj2ucjdW69B4A-0hm3gdEhTJsALI0cGzCU+EMDgXyJxNjtocykMr3aVx5+CwLTeOPrvL2qILgw5rFUX4rJ8WU1MMtMqcLdnZSpSs-US7Hpu9GxAauC2FXbF2ErgWCZX6jnF\"\n",
        "}\n",
        "\n",
        "body = {\n",
        "    \"url\": \"/content/WhatsApp Image 2025-07-14 at 18.48.41_c8606d0d.jpg\",\n",
        "    \"return_confidence\": True\n",
        "}\n",
        "\n",
        "response = requests.post(url, headers=headers, json=body)\n",
        "print(response.json())\n"
      ],
      "metadata": {
        "colab": {
          "base_uri": "https://localhost:8080/"
        },
        "id": "3mOQaGjDU_w4",
        "outputId": "fc3bb2f8-5219-41be-8e2c-0ddd630f42a2"
      },
      "execution_count": null,
      "outputs": [
        {
          "output_type": "stream",
          "name": "stdout",
          "text": [
            "{'error_msg': 'The token must be updated', 'error_code': 'APIGW.0307', 'request_id': 'b1af5acfc3281fb8a245b816fe8b8dc3'}\n"
          ]
        }
      ]
    }
  ]
}